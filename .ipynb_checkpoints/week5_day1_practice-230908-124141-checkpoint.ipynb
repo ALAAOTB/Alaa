{
 "cells": [
  {
   "cell_type": "markdown",
   "metadata": {},
   "source": [
    "# A. Set up Git and GitHub\n",
    "\n",
    "- Install Git\n",
    "- Create a GitHub account\n",
    "- Create a new repository on GitHub\n"
   ]
  },
  {
   "cell_type": "markdown",
   "metadata": {},
   "source": [
    "# B. Create a Virtual Environment in Python locally"
   ]
  },
  {
   "cell_type": "markdown",
   "metadata": {},
   "source": [
    "# C. Install Pandas, Sklearn and Jupyter in the Virtual Environment"
   ]
  },
  {
   "cell_type": "markdown",
   "metadata": {},
   "source": [
    "# D. Start putting your Git skills to use"
   ]
  },
  {
   "cell_type": "markdown",
   "metadata": {},
   "source": [
    "# E. Undergo the following Regression exercise"
   ]
  },
  {
   "cell_type": "markdown",
   "metadata": {
    "id": "MR5zkwPvwyjS"
   },
   "source": [
    "## 1. Basic data exploration"
   ]
  },
  {
   "cell_type": "markdown",
   "metadata": {
    "id": "I70-sr6Px3Wd"
   },
   "source": [
    "Given the dataset below (df), perform the following:"
   ]
  },
  {
   "cell_type": "code",
   "execution_count": 1,
   "metadata": {
    "id": "lZkdhrCcwdVl"
   },
   "outputs": [],
   "source": [
    "import pandas as pd\n",
    "df= pd.read_csv(r\"C:\\Users\\H\\Desktop\\Alaa\\hotel_booking.csv\")"
   ]
  },
  {
   "cell_type": "markdown",
   "metadata": {
    "id": "1PFM8BxCx8ML"
   },
   "source": [
    "Q1) Print out a random sample of 10 rows from the dataset"
   ]
  },
  {
   "cell_type": "code",
   "execution_count": 2,
   "metadata": {
    "id": "e0wjSCWKySK_"
   },
   "outputs": [
    {
     "data": {
      "text/html": [
       "<div>\n",
       "<style scoped>\n",
       "    .dataframe tbody tr th:only-of-type {\n",
       "        vertical-align: middle;\n",
       "    }\n",
       "\n",
       "    .dataframe tbody tr th {\n",
       "        vertical-align: top;\n",
       "    }\n",
       "\n",
       "    .dataframe thead th {\n",
       "        text-align: right;\n",
       "    }\n",
       "</style>\n",
       "<table border=\"1\" class=\"dataframe\">\n",
       "  <thead>\n",
       "    <tr style=\"text-align: right;\">\n",
       "      <th></th>\n",
       "      <th>hotel</th>\n",
       "      <th>is_canceled</th>\n",
       "      <th>lead_time</th>\n",
       "      <th>arrival_date_year</th>\n",
       "      <th>arrival_date_month</th>\n",
       "      <th>arrival_date_week_number</th>\n",
       "      <th>arrival_date_day_of_month</th>\n",
       "      <th>stays_in_weekend_nights</th>\n",
       "      <th>stays_in_week_nights</th>\n",
       "      <th>adults</th>\n",
       "      <th>...</th>\n",
       "      <th>customer_type</th>\n",
       "      <th>adr</th>\n",
       "      <th>required_car_parking_spaces</th>\n",
       "      <th>total_of_special_requests</th>\n",
       "      <th>reservation_status</th>\n",
       "      <th>reservation_status_date</th>\n",
       "      <th>name</th>\n",
       "      <th>email</th>\n",
       "      <th>phone-number</th>\n",
       "      <th>credit_card</th>\n",
       "    </tr>\n",
       "  </thead>\n",
       "  <tbody>\n",
       "    <tr>\n",
       "      <th>36790</th>\n",
       "      <td>Resort Hotel</td>\n",
       "      <td>0</td>\n",
       "      <td>164</td>\n",
       "      <td>2017</td>\n",
       "      <td>May</td>\n",
       "      <td>22</td>\n",
       "      <td>28</td>\n",
       "      <td>1</td>\n",
       "      <td>0</td>\n",
       "      <td>2</td>\n",
       "      <td>...</td>\n",
       "      <td>Transient</td>\n",
       "      <td>62.00</td>\n",
       "      <td>0</td>\n",
       "      <td>0</td>\n",
       "      <td>Check-Out</td>\n",
       "      <td>2017-05-29</td>\n",
       "      <td>Brian Young</td>\n",
       "      <td>BrianYoung29@comcast.net</td>\n",
       "      <td>266-497-7968</td>\n",
       "      <td>************7138</td>\n",
       "    </tr>\n",
       "    <tr>\n",
       "      <th>30329</th>\n",
       "      <td>Resort Hotel</td>\n",
       "      <td>0</td>\n",
       "      <td>6</td>\n",
       "      <td>2016</td>\n",
       "      <td>November</td>\n",
       "      <td>47</td>\n",
       "      <td>13</td>\n",
       "      <td>2</td>\n",
       "      <td>5</td>\n",
       "      <td>2</td>\n",
       "      <td>...</td>\n",
       "      <td>Transient</td>\n",
       "      <td>62.12</td>\n",
       "      <td>0</td>\n",
       "      <td>0</td>\n",
       "      <td>Check-Out</td>\n",
       "      <td>2016-11-20</td>\n",
       "      <td>Kathleen Richards</td>\n",
       "      <td>Kathleen_R@protonmail.com</td>\n",
       "      <td>631-578-7744</td>\n",
       "      <td>************6083</td>\n",
       "    </tr>\n",
       "    <tr>\n",
       "      <th>114882</th>\n",
       "      <td>City Hotel</td>\n",
       "      <td>0</td>\n",
       "      <td>25</td>\n",
       "      <td>2017</td>\n",
       "      <td>June</td>\n",
       "      <td>26</td>\n",
       "      <td>27</td>\n",
       "      <td>0</td>\n",
       "      <td>1</td>\n",
       "      <td>2</td>\n",
       "      <td>...</td>\n",
       "      <td>Transient-Party</td>\n",
       "      <td>100.00</td>\n",
       "      <td>0</td>\n",
       "      <td>0</td>\n",
       "      <td>Check-Out</td>\n",
       "      <td>2017-06-28</td>\n",
       "      <td>Stephen Johnson</td>\n",
       "      <td>SJohnson@xfinity.com</td>\n",
       "      <td>725-693-8239</td>\n",
       "      <td>************5630</td>\n",
       "    </tr>\n",
       "    <tr>\n",
       "      <th>7562</th>\n",
       "      <td>Resort Hotel</td>\n",
       "      <td>0</td>\n",
       "      <td>291</td>\n",
       "      <td>2016</td>\n",
       "      <td>August</td>\n",
       "      <td>34</td>\n",
       "      <td>15</td>\n",
       "      <td>1</td>\n",
       "      <td>2</td>\n",
       "      <td>2</td>\n",
       "      <td>...</td>\n",
       "      <td>Transient</td>\n",
       "      <td>126.00</td>\n",
       "      <td>0</td>\n",
       "      <td>2</td>\n",
       "      <td>Check-Out</td>\n",
       "      <td>2016-08-18</td>\n",
       "      <td>Sara Stout</td>\n",
       "      <td>SaraStout@outlook.com</td>\n",
       "      <td>912-159-2791</td>\n",
       "      <td>************4602</td>\n",
       "    </tr>\n",
       "    <tr>\n",
       "      <th>9881</th>\n",
       "      <td>Resort Hotel</td>\n",
       "      <td>1</td>\n",
       "      <td>40</td>\n",
       "      <td>2017</td>\n",
       "      <td>January</td>\n",
       "      <td>3</td>\n",
       "      <td>16</td>\n",
       "      <td>1</td>\n",
       "      <td>2</td>\n",
       "      <td>1</td>\n",
       "      <td>...</td>\n",
       "      <td>Transient-Party</td>\n",
       "      <td>55.00</td>\n",
       "      <td>0</td>\n",
       "      <td>0</td>\n",
       "      <td>Canceled</td>\n",
       "      <td>2017-01-04</td>\n",
       "      <td>Samantha King</td>\n",
       "      <td>Samantha_King31@protonmail.com</td>\n",
       "      <td>975-692-5446</td>\n",
       "      <td>************4917</td>\n",
       "    </tr>\n",
       "    <tr>\n",
       "      <th>34129</th>\n",
       "      <td>Resort Hotel</td>\n",
       "      <td>0</td>\n",
       "      <td>112</td>\n",
       "      <td>2017</td>\n",
       "      <td>March</td>\n",
       "      <td>11</td>\n",
       "      <td>13</td>\n",
       "      <td>1</td>\n",
       "      <td>0</td>\n",
       "      <td>2</td>\n",
       "      <td>...</td>\n",
       "      <td>Transient-Party</td>\n",
       "      <td>50.00</td>\n",
       "      <td>0</td>\n",
       "      <td>0</td>\n",
       "      <td>Check-Out</td>\n",
       "      <td>2017-03-14</td>\n",
       "      <td>John Diaz</td>\n",
       "      <td>John.Diaz25@yandex.com</td>\n",
       "      <td>998-979-5643</td>\n",
       "      <td>************2697</td>\n",
       "    </tr>\n",
       "    <tr>\n",
       "      <th>100010</th>\n",
       "      <td>City Hotel</td>\n",
       "      <td>0</td>\n",
       "      <td>7</td>\n",
       "      <td>2016</td>\n",
       "      <td>October</td>\n",
       "      <td>43</td>\n",
       "      <td>19</td>\n",
       "      <td>0</td>\n",
       "      <td>2</td>\n",
       "      <td>1</td>\n",
       "      <td>...</td>\n",
       "      <td>Transient</td>\n",
       "      <td>103.18</td>\n",
       "      <td>0</td>\n",
       "      <td>1</td>\n",
       "      <td>Check-Out</td>\n",
       "      <td>2016-10-21</td>\n",
       "      <td>Joshua Jackson</td>\n",
       "      <td>JoshuaJackson@verizon.com</td>\n",
       "      <td>431-473-3788</td>\n",
       "      <td>************9647</td>\n",
       "    </tr>\n",
       "    <tr>\n",
       "      <th>62839</th>\n",
       "      <td>City Hotel</td>\n",
       "      <td>1</td>\n",
       "      <td>59</td>\n",
       "      <td>2017</td>\n",
       "      <td>January</td>\n",
       "      <td>4</td>\n",
       "      <td>23</td>\n",
       "      <td>1</td>\n",
       "      <td>1</td>\n",
       "      <td>2</td>\n",
       "      <td>...</td>\n",
       "      <td>Transient</td>\n",
       "      <td>80.00</td>\n",
       "      <td>0</td>\n",
       "      <td>0</td>\n",
       "      <td>Canceled</td>\n",
       "      <td>2016-11-25</td>\n",
       "      <td>Christine Sanchez</td>\n",
       "      <td>Christine_S@verizon.com</td>\n",
       "      <td>937-772-7419</td>\n",
       "      <td>************1754</td>\n",
       "    </tr>\n",
       "    <tr>\n",
       "      <th>38163</th>\n",
       "      <td>Resort Hotel</td>\n",
       "      <td>0</td>\n",
       "      <td>130</td>\n",
       "      <td>2017</td>\n",
       "      <td>July</td>\n",
       "      <td>28</td>\n",
       "      <td>9</td>\n",
       "      <td>2</td>\n",
       "      <td>0</td>\n",
       "      <td>2</td>\n",
       "      <td>...</td>\n",
       "      <td>Transient-Party</td>\n",
       "      <td>160.00</td>\n",
       "      <td>0</td>\n",
       "      <td>1</td>\n",
       "      <td>Check-Out</td>\n",
       "      <td>2017-07-11</td>\n",
       "      <td>Paul Torres</td>\n",
       "      <td>Paul_T86@outlook.com</td>\n",
       "      <td>936-384-4605</td>\n",
       "      <td>************4773</td>\n",
       "    </tr>\n",
       "    <tr>\n",
       "      <th>18194</th>\n",
       "      <td>Resort Hotel</td>\n",
       "      <td>0</td>\n",
       "      <td>33</td>\n",
       "      <td>2015</td>\n",
       "      <td>November</td>\n",
       "      <td>46</td>\n",
       "      <td>12</td>\n",
       "      <td>0</td>\n",
       "      <td>2</td>\n",
       "      <td>1</td>\n",
       "      <td>...</td>\n",
       "      <td>Transient-Party</td>\n",
       "      <td>36.00</td>\n",
       "      <td>0</td>\n",
       "      <td>0</td>\n",
       "      <td>Check-Out</td>\n",
       "      <td>2015-11-14</td>\n",
       "      <td>David Horn</td>\n",
       "      <td>David_H@hotmail.com</td>\n",
       "      <td>766-321-3913</td>\n",
       "      <td>************2779</td>\n",
       "    </tr>\n",
       "    <tr>\n",
       "      <th>51418</th>\n",
       "      <td>City Hotel</td>\n",
       "      <td>1</td>\n",
       "      <td>322</td>\n",
       "      <td>2016</td>\n",
       "      <td>May</td>\n",
       "      <td>21</td>\n",
       "      <td>19</td>\n",
       "      <td>1</td>\n",
       "      <td>3</td>\n",
       "      <td>2</td>\n",
       "      <td>...</td>\n",
       "      <td>Transient</td>\n",
       "      <td>80.00</td>\n",
       "      <td>0</td>\n",
       "      <td>0</td>\n",
       "      <td>Canceled</td>\n",
       "      <td>2016-02-10</td>\n",
       "      <td>Debra Miller</td>\n",
       "      <td>Debra.Miller95@verizon.com</td>\n",
       "      <td>179-000-1011</td>\n",
       "      <td>************6800</td>\n",
       "    </tr>\n",
       "  </tbody>\n",
       "</table>\n",
       "<p>11 rows × 36 columns</p>\n",
       "</div>"
      ],
      "text/plain": [
       "               hotel  is_canceled  lead_time  arrival_date_year  \\\n",
       "36790   Resort Hotel            0        164               2017   \n",
       "30329   Resort Hotel            0          6               2016   \n",
       "114882    City Hotel            0         25               2017   \n",
       "7562    Resort Hotel            0        291               2016   \n",
       "9881    Resort Hotel            1         40               2017   \n",
       "34129   Resort Hotel            0        112               2017   \n",
       "100010    City Hotel            0          7               2016   \n",
       "62839     City Hotel            1         59               2017   \n",
       "38163   Resort Hotel            0        130               2017   \n",
       "18194   Resort Hotel            0         33               2015   \n",
       "51418     City Hotel            1        322               2016   \n",
       "\n",
       "       arrival_date_month  arrival_date_week_number  \\\n",
       "36790                 May                        22   \n",
       "30329            November                        47   \n",
       "114882               June                        26   \n",
       "7562               August                        34   \n",
       "9881              January                         3   \n",
       "34129               March                        11   \n",
       "100010            October                        43   \n",
       "62839             January                         4   \n",
       "38163                July                        28   \n",
       "18194            November                        46   \n",
       "51418                 May                        21   \n",
       "\n",
       "        arrival_date_day_of_month  stays_in_weekend_nights  \\\n",
       "36790                          28                        1   \n",
       "30329                          13                        2   \n",
       "114882                         27                        0   \n",
       "7562                           15                        1   \n",
       "9881                           16                        1   \n",
       "34129                          13                        1   \n",
       "100010                         19                        0   \n",
       "62839                          23                        1   \n",
       "38163                           9                        2   \n",
       "18194                          12                        0   \n",
       "51418                          19                        1   \n",
       "\n",
       "        stays_in_week_nights  adults  ...    customer_type     adr  \\\n",
       "36790                      0       2  ...        Transient   62.00   \n",
       "30329                      5       2  ...        Transient   62.12   \n",
       "114882                     1       2  ...  Transient-Party  100.00   \n",
       "7562                       2       2  ...        Transient  126.00   \n",
       "9881                       2       1  ...  Transient-Party   55.00   \n",
       "34129                      0       2  ...  Transient-Party   50.00   \n",
       "100010                     2       1  ...        Transient  103.18   \n",
       "62839                      1       2  ...        Transient   80.00   \n",
       "38163                      0       2  ...  Transient-Party  160.00   \n",
       "18194                      2       1  ...  Transient-Party   36.00   \n",
       "51418                      3       2  ...        Transient   80.00   \n",
       "\n",
       "       required_car_parking_spaces total_of_special_requests  \\\n",
       "36790                            0                         0   \n",
       "30329                            0                         0   \n",
       "114882                           0                         0   \n",
       "7562                             0                         2   \n",
       "9881                             0                         0   \n",
       "34129                            0                         0   \n",
       "100010                           0                         1   \n",
       "62839                            0                         0   \n",
       "38163                            0                         1   \n",
       "18194                            0                         0   \n",
       "51418                            0                         0   \n",
       "\n",
       "       reservation_status reservation_status_date               name  \\\n",
       "36790           Check-Out              2017-05-29        Brian Young   \n",
       "30329           Check-Out              2016-11-20  Kathleen Richards   \n",
       "114882          Check-Out              2017-06-28    Stephen Johnson   \n",
       "7562            Check-Out              2016-08-18         Sara Stout   \n",
       "9881             Canceled              2017-01-04      Samantha King   \n",
       "34129           Check-Out              2017-03-14          John Diaz   \n",
       "100010          Check-Out              2016-10-21     Joshua Jackson   \n",
       "62839            Canceled              2016-11-25  Christine Sanchez   \n",
       "38163           Check-Out              2017-07-11        Paul Torres   \n",
       "18194           Check-Out              2015-11-14         David Horn   \n",
       "51418            Canceled              2016-02-10       Debra Miller   \n",
       "\n",
       "                                 email  phone-number       credit_card  \n",
       "36790         BrianYoung29@comcast.net  266-497-7968  ************7138  \n",
       "30329        Kathleen_R@protonmail.com  631-578-7744  ************6083  \n",
       "114882            SJohnson@xfinity.com  725-693-8239  ************5630  \n",
       "7562             SaraStout@outlook.com  912-159-2791  ************4602  \n",
       "9881    Samantha_King31@protonmail.com  975-692-5446  ************4917  \n",
       "34129           John.Diaz25@yandex.com  998-979-5643  ************2697  \n",
       "100010       JoshuaJackson@verizon.com  431-473-3788  ************9647  \n",
       "62839          Christine_S@verizon.com  937-772-7419  ************1754  \n",
       "38163             Paul_T86@outlook.com  936-384-4605  ************4773  \n",
       "18194              David_H@hotmail.com  766-321-3913  ************2779  \n",
       "51418       Debra.Miller95@verizon.com  179-000-1011  ************6800  \n",
       "\n",
       "[11 rows x 36 columns]"
      ]
     },
     "execution_count": 2,
     "metadata": {},
     "output_type": "execute_result"
    }
   ],
   "source": [
    "df.sample(11)"
   ]
  },
  {
   "cell_type": "markdown",
   "metadata": {
    "id": "x0Kvd7eWw0du"
   },
   "source": [
    "Q2) Display information on the dataset:\n"
   ]
  },
  {
   "cell_type": "code",
   "execution_count": 3,
   "metadata": {
    "id": "Hus4QEqP6POs"
   },
   "outputs": [
    {
     "name": "stdout",
     "output_type": "stream",
     "text": [
      "<class 'pandas.core.frame.DataFrame'>\n",
      "RangeIndex: 119390 entries, 0 to 119389\n",
      "Data columns (total 36 columns):\n",
      " #   Column                          Non-Null Count   Dtype  \n",
      "---  ------                          --------------   -----  \n",
      " 0   hotel                           119390 non-null  object \n",
      " 1   is_canceled                     119390 non-null  int64  \n",
      " 2   lead_time                       119390 non-null  int64  \n",
      " 3   arrival_date_year               119390 non-null  int64  \n",
      " 4   arrival_date_month              119390 non-null  object \n",
      " 5   arrival_date_week_number        119390 non-null  int64  \n",
      " 6   arrival_date_day_of_month       119390 non-null  int64  \n",
      " 7   stays_in_weekend_nights         119390 non-null  int64  \n",
      " 8   stays_in_week_nights            119390 non-null  int64  \n",
      " 9   adults                          119390 non-null  int64  \n",
      " 10  children                        119386 non-null  float64\n",
      " 11  babies                          119390 non-null  int64  \n",
      " 12  meal                            119390 non-null  object \n",
      " 13  country                         118902 non-null  object \n",
      " 14  market_segment                  119390 non-null  object \n",
      " 15  distribution_channel            119390 non-null  object \n",
      " 16  is_repeated_guest               119390 non-null  int64  \n",
      " 17  previous_cancellations          119390 non-null  int64  \n",
      " 18  previous_bookings_not_canceled  119390 non-null  int64  \n",
      " 19  reserved_room_type              119390 non-null  object \n",
      " 20  assigned_room_type              119390 non-null  object \n",
      " 21  booking_changes                 119390 non-null  int64  \n",
      " 22  deposit_type                    119390 non-null  object \n",
      " 23  agent                           103050 non-null  float64\n",
      " 24  company                         6797 non-null    float64\n",
      " 25  days_in_waiting_list            119390 non-null  int64  \n",
      " 26  customer_type                   119390 non-null  object \n",
      " 27  adr                             119390 non-null  float64\n",
      " 28  required_car_parking_spaces     119390 non-null  int64  \n",
      " 29  total_of_special_requests       119390 non-null  int64  \n",
      " 30  reservation_status              119390 non-null  object \n",
      " 31  reservation_status_date         119390 non-null  object \n",
      " 32  name                            119390 non-null  object \n",
      " 33  email                           119390 non-null  object \n",
      " 34  phone-number                    119390 non-null  object \n",
      " 35  credit_card                     119390 non-null  object \n",
      "dtypes: float64(4), int64(16), object(16)\n",
      "memory usage: 32.8+ MB\n"
     ]
    }
   ],
   "source": [
    "df.info()"
   ]
  },
  {
   "cell_type": "markdown",
   "metadata": {
    "id": "XX7CjXbVyFr9"
   },
   "source": [
    "Q3) Display the dataset columns"
   ]
  },
  {
   "cell_type": "code",
   "execution_count": 4,
   "metadata": {
    "id": "_54prKmpw7m9"
   },
   "outputs": [
    {
     "data": {
      "text/plain": [
       "Index(['hotel', 'is_canceled', 'lead_time', 'arrival_date_year',\n",
       "       'arrival_date_month', 'arrival_date_week_number',\n",
       "       'arrival_date_day_of_month', 'stays_in_weekend_nights',\n",
       "       'stays_in_week_nights', 'adults', 'children', 'babies', 'meal',\n",
       "       'country', 'market_segment', 'distribution_channel',\n",
       "       'is_repeated_guest', 'previous_cancellations',\n",
       "       'previous_bookings_not_canceled', 'reserved_room_type',\n",
       "       'assigned_room_type', 'booking_changes', 'deposit_type', 'agent',\n",
       "       'company', 'days_in_waiting_list', 'customer_type', 'adr',\n",
       "       'required_car_parking_spaces', 'total_of_special_requests',\n",
       "       'reservation_status', 'reservation_status_date', 'name', 'email',\n",
       "       'phone-number', 'credit_card'],\n",
       "      dtype='object')"
      ]
     },
     "execution_count": 4,
     "metadata": {},
     "output_type": "execute_result"
    }
   ],
   "source": [
    "df.columns"
   ]
  },
  {
   "cell_type": "markdown",
   "metadata": {
    "id": "vHPkrLgsyGRi"
   },
   "source": [
    "Q4) Display statistical info of the the numeric columns in the dataset"
   ]
  },
  {
   "cell_type": "code",
   "execution_count": 22,
   "metadata": {
    "id": "lACeDTZXxAcD"
   },
   "outputs": [],
   "source": []
  },
  {
   "cell_type": "markdown",
   "metadata": {
    "id": "VBc4R4Kj0xeJ"
   },
   "source": [
    "Q5) Count the number of unique hotels in the dataset"
   ]
  },
  {
   "cell_type": "code",
   "execution_count": 22,
   "metadata": {
    "id": "IvYevY-N01p8"
   },
   "outputs": [],
   "source": []
  },
  {
   "cell_type": "markdown",
   "metadata": {
    "id": "FnVZ-Lo601Pq"
   },
   "source": [
    "Q6) Identify the most popular country of origin for guests"
   ]
  },
  {
   "cell_type": "code",
   "execution_count": 22,
   "metadata": {
    "id": "CdhGsv8608LI"
   },
   "outputs": [],
   "source": []
  },
  {
   "cell_type": "markdown",
   "metadata": {
    "id": "bhzenL0Ry6DO"
   },
   "source": [
    "## 2. Data cleaning"
   ]
  },
  {
   "cell_type": "markdown",
   "metadata": {
    "id": "8Km9Qcduy-yr"
   },
   "source": [
    "Q5) Identify missing values in the columns"
   ]
  },
  {
   "cell_type": "code",
   "execution_count": 22,
   "metadata": {
    "id": "34SIFGj9xCnj"
   },
   "outputs": [],
   "source": []
  },
  {
   "cell_type": "markdown",
   "metadata": {
    "id": "220Wunke0i_y"
   },
   "source": [
    "Q6) Calculate the precentage of the missing values in the columns"
   ]
  },
  {
   "cell_type": "code",
   "execution_count": 22,
   "metadata": {
    "id": "5zaDAlXB0jZt"
   },
   "outputs": [],
   "source": []
  },
  {
   "cell_type": "markdown",
   "metadata": {
    "id": "m3Qay0EPzVyk"
   },
   "source": [
    "Q7) Examine the precentages of the missing values in the columns and perform missing value handling as needed"
   ]
  },
  {
   "cell_type": "code",
   "execution_count": 22,
   "metadata": {
    "id": "sn1sIPgX0I5Z"
   },
   "outputs": [],
   "source": []
  },
  {
   "cell_type": "markdown",
   "metadata": {
    "id": "qmOvAj-J1AWD"
   },
   "source": [
    "## 3. Numeric data analysis"
   ]
  },
  {
   "cell_type": "markdown",
   "metadata": {
    "id": "Rj79Zktg1t1A"
   },
   "source": [
    "Q8) Calculate the average lead time for bookings"
   ]
  },
  {
   "cell_type": "code",
   "execution_count": 22,
   "metadata": {
    "id": "aTyJc_nf1D-y"
   },
   "outputs": [],
   "source": []
  },
  {
   "cell_type": "markdown",
   "metadata": {
    "id": "i034mg4z13Uc"
   },
   "source": [
    "Q9) Determine the maximum and minimum values for 'adr' (average daily rate)"
   ]
  },
  {
   "cell_type": "code",
   "execution_count": 22,
   "metadata": {
    "id": "32lqDjU013rt"
   },
   "outputs": [],
   "source": []
  },
  {
   "cell_type": "markdown",
   "metadata": {
    "id": "meQxdleL14JF"
   },
   "source": [
    "Q10) Compute the total number of booking changes"
   ]
  },
  {
   "cell_type": "code",
   "execution_count": 22,
   "metadata": {
    "id": "X50r3PEo14hh"
   },
   "outputs": [],
   "source": []
  },
  {
   "cell_type": "markdown",
   "metadata": {
    "id": "kvXN5iv14uIs"
   },
   "source": [
    "## 4. Feature engineering"
   ]
  },
  {
   "cell_type": "markdown",
   "metadata": {
    "id": "5DHo8XUA4q6K"
   },
   "source": [
    "Q11) Create a new column that represents the total number of guests (adults, children, and babies) for each booking"
   ]
  },
  {
   "cell_type": "code",
   "execution_count": 22,
   "metadata": {
    "id": "DljfRmCh45-3"
   },
   "outputs": [],
   "source": []
  },
  {
   "cell_type": "markdown",
   "metadata": {
    "id": "65ZWbB7-46oV"
   },
   "source": [
    "Q12)  Create a new feature that calculates the total duration of stay for each booking. Show how to add this feature to the dataset"
   ]
  },
  {
   "cell_type": "code",
   "execution_count": 22,
   "metadata": {
    "id": "3zMMNsVd464T"
   },
   "outputs": [],
   "source": []
  },
  {
   "cell_type": "markdown",
   "metadata": {
    "id": "Nm31mX1d47Y-"
   },
   "source": [
    "Q13) Implement one-hot encoding for the 'market_segment' and 'distribution_channel' categorical columns"
   ]
  },
  {
   "cell_type": "code",
   "execution_count": 22,
   "metadata": {
    "id": "vE0uBSxY47r2"
   },
   "outputs": [],
   "source": []
  },
  {
   "cell_type": "markdown",
   "metadata": {
    "id": "TYkmk3Bv6XnM"
   },
   "source": [
    "## 5. Model building\n",
    "The goal is to build a Linear Regression model to predict the ADR for future bookings."
   ]
  },
  {
   "cell_type": "markdown",
   "metadata": {
    "id": "4p021Ifv6mby"
   },
   "source": [
    "Q14) Create a feature matrix (X) and a target vector (y) for training and testing."
   ]
  },
  {
   "cell_type": "code",
   "execution_count": 22,
   "metadata": {
    "id": "SLfyG6Un9m5U"
   },
   "outputs": [],
   "source": []
  },
  {
   "cell_type": "markdown",
   "metadata": {
    "id": "nGJgzL7Q_FQ1"
   },
   "source": [
    "Q15) Import the Linear Regression model from a machine learning library such as Scikit-Learn"
   ]
  },
  {
   "cell_type": "code",
   "execution_count": 22,
   "metadata": {
    "id": "ebLed8bb6xGl"
   },
   "outputs": [],
   "source": []
  },
  {
   "cell_type": "markdown",
   "metadata": {
    "id": "pswfcYus_VwS"
   },
   "source": [
    "Q16) Instantiate the Linear Regression model"
   ]
  },
  {
   "cell_type": "code",
   "execution_count": 22,
   "metadata": {
    "id": "vVqjjasD_WWh"
   },
   "outputs": [],
   "source": []
  },
  {
   "cell_type": "markdown",
   "metadata": {
    "id": "gRRwAPf0_bI3"
   },
   "source": [
    "Q17) Train the model using the training data by calling the fit method"
   ]
  },
  {
   "cell_type": "code",
   "execution_count": 22,
   "metadata": {
    "id": "vHgPGxpN_atP"
   },
   "outputs": [],
   "source": []
  },
  {
   "cell_type": "markdown",
   "metadata": {
    "id": "Lt0F1aIV_d39"
   },
   "source": [
    "Q18) Make predictions on the test dataset"
   ]
  },
  {
   "cell_type": "code",
   "execution_count": 22,
   "metadata": {
    "id": "dREyBxnw_eJ2"
   },
   "outputs": [],
   "source": []
  },
  {
   "cell_type": "markdown",
   "metadata": {
    "id": "FQppiu6L_i7c"
   },
   "source": [
    "### 6. Model evaluation"
   ]
  },
  {
   "cell_type": "markdown",
   "metadata": {
    "id": "UrJn7Otq_etj"
   },
   "source": [
    "Q19) Evaluate the model's performance using regression metrics such as Mean Absolute Error (MAE), Mean Squared Error (MSE), and Root Mean Squared Error (RMSE)"
   ]
  },
  {
   "cell_type": "code",
   "execution_count": 22,
   "metadata": {
    "id": "v7goVZTy_fB5"
   },
   "outputs": [],
   "source": []
  },
  {
   "cell_type": "markdown",
   "metadata": {
    "id": "J9EITzXJ_20T"
   },
   "source": [
    "Q20) Experiment with different feature engineering techniques or consider using regularization methods (e.g., Ridge or Lasso regression) to improve model performance."
   ]
  },
  {
   "cell_type": "code",
   "execution_count": 22,
   "metadata": {
    "id": "gsTJtVlX_3N5"
   },
   "outputs": [],
   "source": []
  },
  {
   "cell_type": "markdown",
   "metadata": {},
   "source": [
    "# F. Additional: \n",
    "\n",
    "- Build a pipeline to automate the data preprocessing and model building steps\n",
    "- Experiment with different machine learning models (e.g., Random Forest, XGBoost, etc.) to improve model performance\n",
    "- Experiment with different hyperparameter tuning strategies (e.g., GridSearchCV, RandomizedSearchCV, etc.) to improve model performance\n",
    "- Experiment with different feature selection techniques (e.g., SelectKBest, Recursive Feature Elimination, etc.) to improve model performance\n",
    "- Experiment with different feature scaling techniques (e.g., StandardScaler, MinMaxScaler, etc.) to improve model performance\n",
    "- Visualize the relationship between the target values and the features\n",
    "- Visualize the predictions of the top best models\n",
    "- Visualize the residuals of the top best models\n",
    "- Visualize the coefficients of the top best models\n"
   ]
  },
  {
   "cell_type": "code",
   "execution_count": null,
   "metadata": {},
   "outputs": [],
   "source": []
  }
 ],
 "metadata": {
  "colab": {
   "collapsed_sections": [
    "MR5zkwPvwyjS",
    "bhzenL0Ry6DO",
    "qmOvAj-J1AWD",
    "kvXN5iv14uIs"
   ],
   "provenance": []
  },
  "kernelspec": {
   "display_name": "Python 3 (ipykernel)",
   "language": "python",
   "name": "python3"
  },
  "language_info": {
   "codemirror_mode": {
    "name": "ipython",
    "version": 3
   },
   "file_extension": ".py",
   "mimetype": "text/x-python",
   "name": "python",
   "nbconvert_exporter": "python",
   "pygments_lexer": "ipython3",
   "version": "3.11.4"
  }
 },
 "nbformat": 4,
 "nbformat_minor": 1
}
